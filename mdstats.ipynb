{
 "cells": [
  {
   "cell_type": "code",
   "execution_count": null,
   "id": "ab84f1c2-2430-415a-b61e-b6ccef9de6f6",
   "metadata": {},
   "outputs": [],
   "source": [
    "#!pip install -q -r requirements.txt"
   ]
  },
  {
   "cell_type": "code",
   "execution_count": null,
   "id": "4d15977b-43a0-45d1-a159-326d71cb3917",
   "metadata": {},
   "outputs": [],
   "source": [
    "%run mdstats.py\n",
    "init_notebook_mode(all_interactive=False)\n",
    "\n",
    "filename = \"export-datara-simple-1727993818-all\"\n",
    "\n",
    "records_path = zipfile.Path(f\"{filename}.zip\")\n",
    "\n",
    "display(HTML('mdstats.css'))\n",
    "w = mdstats_widget(records_path)\n",
    "display(w)"
   ]
  },
  {
   "cell_type": "code",
   "execution_count": null,
   "id": "b4bcef50-8f2d-450b-aed5-644bb919166b",
   "metadata": {},
   "outputs": [],
   "source": [
    "df = w.result.copy()\n",
    "# non-interactive equivalent:\n",
    "#df = mdstats_df(records_path, <iso_extract_xpath>, <iso_mask_xpath>)\n",
    "\n",
    "# analysis id, must be registered in grist!\n",
    "df['a_id'] = '166cb8ba-70f9-4058-81a7-d7bd55c713c5'\n",
    "\n",
    "to_csv(df[['a_id', 'p_id', 'total', 'pattern']], filename=f\"{filename}-patterns.csv\", unescape='pattern')\n",
    "to_csv(df[['a_id', 'p_id', 'e_id', 'count', 'extract', 'transform', 'dcat', 'r_ids']], filename=f\"{filename}-extracts.csv\", unescape=['extract', 'transform', 'dcat'], listify='r_ids')"
   ]
  }
 ],
 "metadata": {
  "kernelspec": {
   "display_name": "Python 3 (ipykernel)",
   "language": "python",
   "name": "python3"
  },
  "language_info": {
   "codemirror_mode": {
    "name": "ipython",
    "version": 3
   },
   "file_extension": ".py",
   "mimetype": "text/x-python",
   "name": "python",
   "nbconvert_exporter": "python",
   "pygments_lexer": "ipython3",
   "version": "3.12.2"
  }
 },
 "nbformat": 4,
 "nbformat_minor": 5
}
