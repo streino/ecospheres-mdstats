{
 "cells": [
  {
   "cell_type": "code",
   "execution_count": null,
   "id": "4d15977b-43a0-45d1-a159-326d71cb3917",
   "metadata": {},
   "outputs": [],
   "source": [
    "%run mdstats.py\n",
    "init_notebook_mode(all_interactive=True)\n",
    "# records_path = Path('export-full-1721228714718')\n",
    "records_path = zipfile.Path('export-full-1721228714718.zip')\n",
    "mdstats_widget(records_path)"
   ]
  }
 ],
 "metadata": {
  "kernelspec": {
   "display_name": "Python 3 (ipykernel)",
   "language": "python",
   "name": "python3"
  },
  "language_info": {
   "codemirror_mode": {
    "name": "ipython",
    "version": 3
   },
   "file_extension": ".py",
   "mimetype": "text/x-python",
   "name": "python",
   "nbconvert_exporter": "python",
   "pygments_lexer": "ipython3",
   "version": "3.12.2"
  }
 },
 "nbformat": 4,
 "nbformat_minor": 5
}
