{
 "cells": [
  {
   "cell_type": "code",
   "execution_count": null,
   "id": "ab84f1c2-2430-415a-b61e-b6ccef9de6f6",
   "metadata": {},
   "outputs": [],
   "source": [
    "#!pip install -q -r requirements.txt"
   ]
  },
  {
   "cell_type": "code",
   "execution_count": null,
   "id": "4d15977b-43a0-45d1-a159-326d71cb3917",
   "metadata": {},
   "outputs": [],
   "source": [
    "%run mdstats.py\n",
    "init_notebook_mode(all_interactive=False)\n",
    "\n",
    "filename = \"export-datara-simple-1727993818-all\"\n",
    "\n",
    "records_path = zipfile.Path(f\"{filename}.zip\")\n",
    "\n",
    "# ISO_PREPARE_PATH = ''\n",
    "# ISO_EXTRACT_XPATH = '//gmd:resourceConstraints[gmd:MD_LegalConstraints]'\n",
    "# ISO_MASK_XPATH = '//gco:CharacterString | //@codeList | //*[@gco:nilReason=\"missing\"]'\n",
    "# TRANSFORMER_PATH = 'split-resource-constraints.xsl'\n",
    "# DCAT_EXTRACT_XPATH = '//dcat:distribution[1]//dct:license | //dcat:distribution[1]//dct:accessRights'\n",
    "\n",
    "ISO_PREPARE_PATH = 'mask-identifier.xsl'\n",
    "ISO_EXTRACT_XPATH = '//gmd:MD_DataIdentification/gmd:citation/gmd:CI_Citation/gmd:identifier[gmd:MD_Identifier or RS_Identifier]'\n",
    "ISO_MASK_XPATH = '//gmd:authority'\n",
    "TRANSFORMER_PATH = ''\n",
    "DCAT_EXTRACT_XPATH = ''\n",
    "\n",
    "display(HTML('mdstats.css'))\n",
    "w = mdstats_widget(\n",
    "    records_path,\n",
    "    iso_prepare_path=ISO_PREPARE_PATH, iso_extract_xpath=ISO_EXTRACT_XPATH, iso_mask_xpath=ISO_MASK_XPATH,\n",
    "    transformer_path=TRANSFORMER_PATH, dcat_extract_xpath=DCAT_EXTRACT_XPATH)\n",
    "display(w)"
   ]
  },
  {
   "cell_type": "code",
   "execution_count": null,
   "id": "b4bcef50-8f2d-450b-aed5-644bb919166b",
   "metadata": {},
   "outputs": [],
   "source": [
    "df = w.result.copy()\n",
    "# non-interactive equivalent:\n",
    "#df = mdstats_df(records_path, <iso_extract_xpath>, <iso_mask_xpath>)\n",
    "\n",
    "# analysis id, must be registered in grist!\n",
    "df['a_id'] = '166cb8ba-70f9-4058-81a7-d7bd55c713c5'\n",
    "\n",
    "to_csv(df[['a_id', 'p_id', 'total', 'pattern']], filename=f\"{filename}-patterns.csv\", unescape='pattern')\n",
    "to_csv(df[['a_id', 'p_id', 'e_id', 'count', 'extract', 'transform', 'dcat', 'r_ids']], filename=f\"{filename}-extracts.csv\", unescape=['extract', 'transform', 'dcat'], listify='r_ids')"
   ]
  }
 ],
 "metadata": {
  "kernelspec": {
   "display_name": "Python 3 (ipykernel)",
   "language": "python",
   "name": "python3"
  },
  "language_info": {
   "codemirror_mode": {
    "name": "ipython",
    "version": 3
   },
   "file_extension": ".py",
   "mimetype": "text/x-python",
   "name": "python",
   "nbconvert_exporter": "python",
   "pygments_lexer": "ipython3",
   "version": "3.12.2"
  }
 },
 "nbformat": 4,
 "nbformat_minor": 5
}
